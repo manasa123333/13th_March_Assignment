{
 "cells": [
  {
   "cell_type": "markdown",
   "id": "32e352e5-72f3-4db5-80c8-db5f8a48fe7e",
   "metadata": {},
   "source": [
    "Q1. Explain the assumptions required to use ANOVA and provide examples of violations that could impact\n",
    "the validity of the results."
   ]
  },
  {
   "cell_type": "markdown",
   "id": "24d52b79-47fc-4cd1-9318-4cbb47e47b2e",
   "metadata": {},
   "source": [
    "Here are the key assumptions required to use ANOVA:\n",
    "\n",
    "Normality:\n",
    "\n",
    "Each group's data should be approximately normally distributed.\n",
    "Violation: Skewed distributions, outliers.\n",
    "Impact: Increased Type I error rates (false positives), distorted results.\n",
    "\n",
    "Homogeneity of Variances (Homoscedasticity):                                                                 \n",
    "\n",
    "The variances within each group should be roughly equal.\n",
    "Violation: Unequal variances across groups.\n",
    "Impact: Inflation of Type I error rates, biased F-ratios.\n",
    "\n",
    "Independence of Observations:                                                        \n",
    "\n",
    "Observations within and between groups should be independent of each other.\n",
    "Violation: Dependent samples (e.g., repeated measures), clustering effects.\n",
    "Impact: Underestimated standard errors, unreliable p-values.\n",
    "\n",
    "Additional assumptions for more complex ANOVA designs:                                                     \n",
    "\n",
    "Additivity: Factor effects are additive (no interactions).                                                 \n",
    "Linearity: Relationship between independent and dependent variables is linear.\n",
    "Examples of violations and their impacts:\n",
    "\n",
    "Strongly skewed data: Might lead to incorrect conclusions due to inflated Type I error rates.                          \n",
    "Unequal variances combined with unequal group sizes: Can significantly distort results, especially for smaller groups.                                                                                                              \n",
    "Correlated observations: Underestimated standard errors, leading to increased risk of false positives."
   ]
  },
  {
   "cell_type": "markdown",
   "id": "6687bfed-4f8a-4394-94cb-1c0277991355",
   "metadata": {},
   "source": [
    "Q2. What are the three types of ANOVA, and in what situations would each be used?"
   ]
  },
  {
   "cell_type": "markdown",
   "id": "57b71b48-2b48-4e73-8779-567b3082a8e8",
   "metadata": {},
   "source": [
    "\n",
    "There are three main types of ANOVA, each suited to different research questions and scenarios:\n",
    "\n",
    "1. One-Way ANOVA:\n",
    "\n",
    " Definition: Compares the means of three or more groups on a single independent variable (categorical).\n",
    " Situations: When you want to know if there are statistically significant differences in a dependent variable (e.g., plant growth rates) between groups defined by a single factor (e.g., fertilizer type).\n",
    "Example: Comparing the average corn yields of three different fertilizer groups.\n",
    "\n",
    "2. Two-Way ANOVA:\n",
    "\n",
    "Definition: Examines the effects of two independent variables (both categorical) on a single dependent variable.\n",
    "Situations: When you want to investigate the combined and individual effects of two factors and potential interactions between them.\n",
    "Example: Studying the influence of both exercise frequency and diet type on weight loss outcomes.\n",
    "\n",
    "3. N-Way ANOVA:\n",
    "\n",
    " Definition: Generalizes beyond two factors, testing for the effects of three or more independent variables (categorical) on a single dependent variable.\n",
    " Situations: When you have a complex research design with multiple influencing factors and intricate interactions to explore.\n",
    "Example: Analyzing the performance of athletes under different training programs, competition pressures, and environmental conditions.\n",
    "Choosing the right type of ANOVA depends on several factors:\n",
    "\n",
    "1. Number of independent variables: One-way for one, two-way for two, N-way for three or more.\n",
    "2. Complexity of research question: Simple comparisons (one-way) vs. multi-faceted interactions (N-way).\n",
    "3. Availability of data and resources: N-way analyses can be computationally demanding"
   ]
  },
  {
   "cell_type": "markdown",
   "id": "c8c4aad2-02bd-4102-8836-bfd825556471",
   "metadata": {},
   "source": [
    "Q3. What is the partitioning of variance in ANOVA, and why is it important to understand this concept?"
   ]
  },
  {
   "cell_type": "markdown",
   "id": "6bafdb24-a3b3-49e7-b70f-b189e82a927e",
   "metadata": {},
   "source": [
    "Partitioning Variance:\n",
    "\n",
    "Central concept in ANOVA.\n",
    "Involves dividing the total variability in a dataset into distinct sources to pinpoint the causes of variation.\n",
    "\n",
    "Understanding it is essential because:\n",
    "\n",
    "Forms the basis of ANOVA's hypothesis testing.\n",
    "Determines which factors contribute significantly to differences in the dependent variable.\n",
    "Guides interpretation of results and conclusions.\n",
    "\n",
    "Explanation:\n",
    "\n",
    "Total Variance (SST): Total spread of scores around the grand mean (overall mean).\n",
    "Between-Groups Variance (SSB): Variation attributed to differences between group means.\n",
    "Within-Groups Variance (SSW): Variation within each group, not explained by group membership (considers individual differences and random error).\n",
    "Relationship and Formula:\n",
    "\n",
    "SST = SSB + SSW\n",
    "ANOVA's Test Statistic:\n",
    "\n",
    "F-ratio: Compares the ratio of between-groups variance to within-groups variance.\n",
    "Significant F-ratio suggests group means differ more than expected by chance, indicating the independent variable likely has an effect.\n",
    "Key Points:\n",
    "\n",
    "Partitioning variance isolates the effects of the independent variable from random error.\n",
    "Understanding this concept is crucial for interpreting ANOVA results and drawing appropriate conclusions."
   ]
  },
  {
   "cell_type": "markdown",
   "id": "953952ed-3ad4-49cb-b2a8-a5ce59d6ec3f",
   "metadata": {},
   "source": [
    "Q4. How would you calculate the total sum of squares (SST), explained sum of squares (SSE), and residual\n",
    "sum of squares (SSR) in a one-way ANOVA using Python?"
   ]
  },
  {
   "cell_type": "code",
   "execution_count": 3,
   "id": "b09c8744-8f0a-4ed8-a237-8c7428a90ad5",
   "metadata": {},
   "outputs": [],
   "source": [
    "import numpy as np\n",
    "from sklearn.model_selection import train_test_split\n",
    "from sklearn.linear_model import LinearRegression\n",
    "from sklearn.metrics import mean_squared_error, r2_score"
   ]
  },
  {
   "cell_type": "code",
   "execution_count": 4,
   "id": "52961a61-688a-4f3b-9cb8-608e28befd9e",
   "metadata": {},
   "outputs": [],
   "source": [
    "# Generate dataset\n",
    "np.random.seed(0)  # for reproducibility\n",
    "X = np.random.rand(100, 1)\n",
    "y = 4 + 3 * X + np.random.randn(100, 1)"
   ]
  },
  {
   "cell_type": "code",
   "execution_count": 5,
   "id": "2a30e5fd-02c9-4435-bd68-21118dfc759f",
   "metadata": {},
   "outputs": [],
   "source": [
    "# Split the data\n",
    "X_train, X_test, y_train, y_test = train_test_split(X, y, test_size=0.2, random_state=42)"
   ]
  },
  {
   "cell_type": "code",
   "execution_count": 6,
   "id": "6eacd92b-4ab9-46c5-a973-b6295612ed25",
   "metadata": {},
   "outputs": [
    {
     "data": {
      "text/html": [
       "<style>#sk-container-id-1 {color: black;background-color: white;}#sk-container-id-1 pre{padding: 0;}#sk-container-id-1 div.sk-toggleable {background-color: white;}#sk-container-id-1 label.sk-toggleable__label {cursor: pointer;display: block;width: 100%;margin-bottom: 0;padding: 0.3em;box-sizing: border-box;text-align: center;}#sk-container-id-1 label.sk-toggleable__label-arrow:before {content: \"▸\";float: left;margin-right: 0.25em;color: #696969;}#sk-container-id-1 label.sk-toggleable__label-arrow:hover:before {color: black;}#sk-container-id-1 div.sk-estimator:hover label.sk-toggleable__label-arrow:before {color: black;}#sk-container-id-1 div.sk-toggleable__content {max-height: 0;max-width: 0;overflow: hidden;text-align: left;background-color: #f0f8ff;}#sk-container-id-1 div.sk-toggleable__content pre {margin: 0.2em;color: black;border-radius: 0.25em;background-color: #f0f8ff;}#sk-container-id-1 input.sk-toggleable__control:checked~div.sk-toggleable__content {max-height: 200px;max-width: 100%;overflow: auto;}#sk-container-id-1 input.sk-toggleable__control:checked~label.sk-toggleable__label-arrow:before {content: \"▾\";}#sk-container-id-1 div.sk-estimator input.sk-toggleable__control:checked~label.sk-toggleable__label {background-color: #d4ebff;}#sk-container-id-1 div.sk-label input.sk-toggleable__control:checked~label.sk-toggleable__label {background-color: #d4ebff;}#sk-container-id-1 input.sk-hidden--visually {border: 0;clip: rect(1px 1px 1px 1px);clip: rect(1px, 1px, 1px, 1px);height: 1px;margin: -1px;overflow: hidden;padding: 0;position: absolute;width: 1px;}#sk-container-id-1 div.sk-estimator {font-family: monospace;background-color: #f0f8ff;border: 1px dotted black;border-radius: 0.25em;box-sizing: border-box;margin-bottom: 0.5em;}#sk-container-id-1 div.sk-estimator:hover {background-color: #d4ebff;}#sk-container-id-1 div.sk-parallel-item::after {content: \"\";width: 100%;border-bottom: 1px solid gray;flex-grow: 1;}#sk-container-id-1 div.sk-label:hover label.sk-toggleable__label {background-color: #d4ebff;}#sk-container-id-1 div.sk-serial::before {content: \"\";position: absolute;border-left: 1px solid gray;box-sizing: border-box;top: 0;bottom: 0;left: 50%;z-index: 0;}#sk-container-id-1 div.sk-serial {display: flex;flex-direction: column;align-items: center;background-color: white;padding-right: 0.2em;padding-left: 0.2em;position: relative;}#sk-container-id-1 div.sk-item {position: relative;z-index: 1;}#sk-container-id-1 div.sk-parallel {display: flex;align-items: stretch;justify-content: center;background-color: white;position: relative;}#sk-container-id-1 div.sk-item::before, #sk-container-id-1 div.sk-parallel-item::before {content: \"\";position: absolute;border-left: 1px solid gray;box-sizing: border-box;top: 0;bottom: 0;left: 50%;z-index: -1;}#sk-container-id-1 div.sk-parallel-item {display: flex;flex-direction: column;z-index: 1;position: relative;background-color: white;}#sk-container-id-1 div.sk-parallel-item:first-child::after {align-self: flex-end;width: 50%;}#sk-container-id-1 div.sk-parallel-item:last-child::after {align-self: flex-start;width: 50%;}#sk-container-id-1 div.sk-parallel-item:only-child::after {width: 0;}#sk-container-id-1 div.sk-dashed-wrapped {border: 1px dashed gray;margin: 0 0.4em 0.5em 0.4em;box-sizing: border-box;padding-bottom: 0.4em;background-color: white;}#sk-container-id-1 div.sk-label label {font-family: monospace;font-weight: bold;display: inline-block;line-height: 1.2em;}#sk-container-id-1 div.sk-label-container {text-align: center;}#sk-container-id-1 div.sk-container {/* jupyter's `normalize.less` sets `[hidden] { display: none; }` but bootstrap.min.css set `[hidden] { display: none !important; }` so we also need the `!important` here to be able to override the default hidden behavior on the sphinx rendered scikit-learn.org. See: https://github.com/scikit-learn/scikit-learn/issues/21755 */display: inline-block !important;position: relative;}#sk-container-id-1 div.sk-text-repr-fallback {display: none;}</style><div id=\"sk-container-id-1\" class=\"sk-top-container\"><div class=\"sk-text-repr-fallback\"><pre>LinearRegression()</pre><b>In a Jupyter environment, please rerun this cell to show the HTML representation or trust the notebook. <br />On GitHub, the HTML representation is unable to render, please try loading this page with nbviewer.org.</b></div><div class=\"sk-container\" hidden><div class=\"sk-item\"><div class=\"sk-estimator sk-toggleable\"><input class=\"sk-toggleable__control sk-hidden--visually\" id=\"sk-estimator-id-1\" type=\"checkbox\" checked><label for=\"sk-estimator-id-1\" class=\"sk-toggleable__label sk-toggleable__label-arrow\">LinearRegression</label><div class=\"sk-toggleable__content\"><pre>LinearRegression()</pre></div></div></div></div></div>"
      ],
      "text/plain": [
       "LinearRegression()"
      ]
     },
     "execution_count": 6,
     "metadata": {},
     "output_type": "execute_result"
    }
   ],
   "source": [
    "# Create a LinearRegression instance\n",
    "model = LinearRegression()\n",
    "\n",
    "# Fit the model\n",
    "model.fit(X_train, y_train)"
   ]
  },
  {
   "cell_type": "code",
   "execution_count": 7,
   "id": "a4771309-177f-4fb7-8f58-a9581a982673",
   "metadata": {},
   "outputs": [],
   "source": [
    "# Make predictions\n",
    "y_pred = model.predict(X_test)"
   ]
  },
  {
   "cell_type": "code",
   "execution_count": 8,
   "id": "3d447430-3d5e-4d8f-b239-b4fd4dee962e",
   "metadata": {},
   "outputs": [
    {
     "name": "stdout",
     "output_type": "stream",
     "text": [
      "SSE: 18.355064939428587\n",
      "SSR: 9.553853891520301\n",
      "SST: 25.891988774148167\n"
     ]
    }
   ],
   "source": [
    "# Calculate the mean y\n",
    "y_mean = np.mean(y_test)\n",
    "\n",
    "# Calculate SSE\n",
    "sse = np.sum((y_test - y_pred) ** 2)\n",
    "\n",
    "# Calculate SSR\n",
    "ssr = np.sum((y_pred - y_mean) ** 2)\n",
    "\n",
    "# Calculate SST\n",
    "sst = np.sum((y_test - y_mean) ** 2)\n",
    "\n",
    "print(f\"SSE: {sse}\")\n",
    "print(f\"SSR: {ssr}\")\n",
    "print(f\"SST: {sst}\")"
   ]
  },
  {
   "cell_type": "markdown",
   "id": "9afd978f-be5f-4fca-87ea-f6f3e60cc9a8",
   "metadata": {},
   "source": [
    "Q5. In a two-way ANOVA, how would you calculate the main effects and interaction effects using Python?"
   ]
  },
  {
   "cell_type": "code",
   "execution_count": 9,
   "id": "eafd16c6-5062-468f-8411-6fe22fea3fde",
   "metadata": {},
   "outputs": [
    {
     "name": "stdout",
     "output_type": "stream",
     "text": [
      "Main Effect of Factor 1: 54.00000000000003\n",
      "Main Effect of Factor 2: 6.0000000000000036\n",
      "Interaction Effect: 3.1554436208840472e-30\n"
     ]
    }
   ],
   "source": [
    "import numpy as np\n",
    "import pandas as pd\n",
    "import statsmodels.api as sm\n",
    "from statsmodels.formula.api import ols\n",
    "\n",
    "# Create sample data for two factors\n",
    "factor1 = np.array([1, 1, 1, 2, 2, 2, 3, 3, 3])\n",
    "factor2 = np.array([1, 2, 3, 1, 2, 3, 1, 2, 3])\n",
    "response = np.array([4, 5, 6, 7, 8, 9, 10, 11, 12])\n",
    "\n",
    "# Create a DataFrame with the data\n",
    "df = pd.DataFrame({'Factor1': factor1, 'Factor2': factor2, 'Response': response})\n",
    "\n",
    "# Fit the two-way ANOVA model\n",
    "model = ols('Response ~ Factor1 + Factor2 + Factor1:Factor2', data=df).fit()\n",
    "anova_table = sm.stats.anova_lm(model)\n",
    "\n",
    "# Extract the main effects and interaction effects\n",
    "main_effect_factor1 = anova_table['sum_sq']['Factor1']\n",
    "main_effect_factor2 = anova_table['sum_sq']['Factor2']\n",
    "interaction_effect = anova_table['sum_sq']['Factor1:Factor2']\n",
    "\n",
    "print(\"Main Effect of Factor 1:\", main_effect_factor1)\n",
    "print(\"Main Effect of Factor 2:\", main_effect_factor2)\n",
    "print(\"Interaction Effect:\", interaction_effect)"
   ]
  },
  {
   "cell_type": "markdown",
   "id": "92b2111c-4351-48d0-bf91-910f2de964db",
   "metadata": {},
   "source": [
    "Q6. Suppose you conducted a one-way ANOVA and obtained an F-statistic of 5.23 and a p-value of 0.02.\n",
    "What can you conclude about the differences between the groups, and how would you interpret these\n",
    "results?"
   ]
  },
  {
   "cell_type": "markdown",
   "id": "4797a9fd-1169-4cb2-b371-135b08c3fcf2",
   "metadata": {},
   "source": [
    "In a one-way ANOVA, the F-statistic is used to test the null hypothesis that the means of all the groups are equal. The p-value associated with the F-statistic indicates the probability of obtaining the observed F-value (or a more extreme value) if the null hypothesis is true.\n",
    "\n",
    "In this case, we obtained an F-statistic of 5.23 and a p-value of 0.02. The p-value of 0.02 indicates that the probability of obtaining an F-statistic as extreme as 5.23 (or more extreme) under the assumption of equal group means is 0.02.\n",
    "\n",
    "Based on the obtained results, we can conclude that there are statistically significant differences between the groups. The low p-value (less than the conventional significance level of 0.05) suggests that the observed differences in means are unlikely to be due to random chance alone.\n",
    "\n",
    "To interpret these results further, it is necessary to conduct post hoc tests or examine the group means directly. These additional analyses can provide insights into which specific groups differ significantly from each other and the direction of those differences (i.e., which groups have higher or lower means compared to others). Post hoc tests, such as Tukey's test or pairwise t-tests, allow for comparisons between individual groups while controlling for the overall experiment-wise error rate.\n",
    "\n",
    "Therefore, based on an F-statistic of 5.23 and a p-value of 0.02 in a one-way ANOVA, we can conclude that there are statistically significant differences between the groups. Further post hoc tests or examination of the group means will provide more specific information about the nature and direction of these differences."
   ]
  },
  {
   "cell_type": "markdown",
   "id": "4f58a74d-9122-47ab-ba2a-1372c062057c",
   "metadata": {},
   "source": [
    "Q7. In a repeated measures ANOVA, how would you handle missing data, and what are the potential\n",
    "consequences of using different methods to handle missing data?"
   ]
  },
  {
   "cell_type": "markdown",
   "id": "1717e86b-6fd0-4f9f-b006-20eba906611c",
   "metadata": {},
   "source": [
    "Understanding Missing Data in Repeated Measures:\n",
    "\n",
    "Missing data can significantly impact results, especially since repeated measures involve multiple observations from the same participants.\n",
    "Addressing it appropriately is crucial for valid conclusions.\n",
    "\n",
    "Common Methods for Handling Missing Data:\n",
    "\n",
    "1. Listwise Deletion:\n",
    "\n",
    "Removes any participant with missing values in any of the repeated measures.\n",
    "Consequences:\n",
    "Reduced power and potential bias if missingness is not random.\n",
    "Not ideal for smaller samples or when missingness is related to the outcome.\n",
    "\n",
    "2. Pairwise Deletion:\n",
    "\n",
    "Excludes participants only from specific analyses where they have missing values.\n",
    "Consequences:\n",
    "Can lead to different sample sizes across analyses, complicating interpretation.\n",
    "Might underestimate standard errors and inflate Type I error rates.\n",
    "\n",
    "3. Mean Imputation:\n",
    "\n",
    "Replaces missing values with the mean of the observed scores for that measure.\n",
    "Consequences:\n",
    "Underestimates variability and can distort relationships between variables.\n",
    "Not recommended for repeated measures due to potential bias.\n",
    "\n",
    "4. Multiple Imputation:\n",
    "\n",
    "Creates multiple \"complete\" datasets by imputing missing values based on statistical models.\n",
    "Analyzes each dataset and combines results for more robust inferences.\n",
    "Consequences:\n",
    "Computationally intensive but often preferred for handling missing data in repeated measures.\n",
    "\n",
    "5. Mixed Models:\n",
    "\n",
    "Advanced statistical models that can accommodate missing data without explicit imputation.\n",
    "Uses all available data and makes assumptions about missingness mechanisms.\n",
    "Consequences:\n",
    "More complex but can provide more accurate results for repeated measures with missing data."
   ]
  },
  {
   "cell_type": "markdown",
   "id": "3f4334cc-f300-4a4a-95d5-fda0cf912134",
   "metadata": {},
   "source": [
    "Q8. What are some common post-hoc tests used after ANOVA, and when would you use each one? Provide\n",
    "an example of a situation where a post-hoc test might be necessary."
   ]
  },
  {
   "cell_type": "markdown",
   "id": "5303374e-12dc-406d-99ec-ca4a3afc5ec9",
   "metadata": {},
   "source": [
    "Post-hoc tests are conducted after finding a significant result in an Analysis of Variance (ANOVA) to determine which specific group differences are driving the overall significance. Since ANOVA itself doesn't identify where the differences lie, post-hoc tests are employed for pairwise comparisons between groups. Some common post-hoc tests include:\n",
    "\n",
    "1. Tukey's Honestly Significant Difference (HSD):\n",
    "\n",
    "When to Use: Tukey's HSD is conservative and suitable when you have unequal sample sizes and want to control the familywise error rate (overall Type I error rate).\n",
    "Example Situation: You conducted a one-way ANOVA and found a significant difference among the means. Tukey's HSD can help identify which specific pairs of groups are significantly different from each other.\n",
    "\n",
    "2. Bonferroni Correction:\n",
    "\n",
    "When to Use: Bonferroni is a more conservative correction that controls the familywise error rate. It is suitable when you have a large number of pairwise comparisons.\n",
    "Example Situation: You have multiple groups, and you want to perform several pairwise comparisons. The Bonferroni correction helps control the overall probability of making a Type I error.\n",
    "\n",
    "3. Duncan's New Multiple Range Test:\n",
    "\n",
    "When to Use: Duncan's test is less conservative than Tukey's HSD and can be used when sample sizes are equal. It is suitable for identifying differences among means when you have unequal sample sizes.\n",
    "Example Situation: You conducted a one-way ANOVA with unequal sample sizes, and you want to determine which specific groups differ from each other.\n",
    "\n",
    "4. Scheffé's Test:\n",
    "\n",
    "When to Use: Scheffé's test is very conservative but powerful in controlling Type I error rates, making it suitable for situations with unequal sample sizes and a large number of groups.\n",
    "Example Situation: You have a complex experimental design with multiple factors, and you want to perform conservative post-hoc tests to control the overall Type I error rate.\n",
    "\n",
    "5. Games-Howell Test:\n",
    "\n",
    "When to Use: Games-Howell is a robust post-hoc test for situations with unequal variances and sample sizes. It does not assume equal variances across groups.\n",
    "Example Situation: You conducted a one-way ANOVA, and Levene's test indicated unequal variances. Games-Howell can be used to compare specific groups."
   ]
  },
  {
   "cell_type": "markdown",
   "id": "acedfe4c-ea48-4c57-beea-caa31176f906",
   "metadata": {},
   "source": [
    "Q9. A researcher wants to compare the mean weight loss of three diets: A, B, and C. They collect data from\n",
    "50 participants who were randomly assigned to one of the diets. Conduct a one-way ANOVA using Python\n",
    "to determine if there are any significant differences between the mean weight loss of the three diets.\n",
    "Report the F-statistic and p-value, and interpret the results."
   ]
  },
  {
   "cell_type": "code",
   "execution_count": 10,
   "id": "79d4bb92-8905-4ad1-b584-d71d32630047",
   "metadata": {},
   "outputs": [
    {
     "name": "stdout",
     "output_type": "stream",
     "text": [
      "One-Way ANOVA Results:\n",
      "F-Statistic: 8.914168610576342\n",
      "P-Value: 0.00022180999236284595\n",
      "The one-way ANOVA result is statistically significant, indicating that there are significant differences in mean weight loss between at least two diets.\n"
     ]
    }
   ],
   "source": [
    "import numpy as np\n",
    "from scipy.stats import f_oneway\n",
    "\n",
    "# Generate example data for weight loss\n",
    "np.random.seed(42)  # Set seed for reproducibility\n",
    "diet_A = np.random.normal(loc=5, scale=2, size=50)  # Example data for Diet A\n",
    "diet_B = np.random.normal(loc=4.5, scale=2, size=50)  # Example data for Diet B\n",
    "diet_C = np.random.normal(loc=6, scale=2, size=50)  # Example data for Diet C\n",
    "\n",
    "# Combine data into a single array\n",
    "all_data = np.concatenate([diet_A, diet_B, diet_C])\n",
    "\n",
    "# Create group labels\n",
    "group_labels = ['A'] * 50 + ['B'] * 50 + ['C'] * 50\n",
    "\n",
    "# Perform one-way ANOVA\n",
    "f_statistic, p_value = f_oneway(diet_A, diet_B, diet_C)\n",
    "\n",
    "# Report results\n",
    "print(\"One-Way ANOVA Results:\")\n",
    "print(\"F-Statistic:\", f_statistic)\n",
    "print(\"P-Value:\", p_value)\n",
    "\n",
    "# Interpretation\n",
    "if p_value < 0.05:\n",
    "    print(\"The one-way ANOVA result is statistically significant, indicating that there are significant differences in mean weight loss between at least two diets.\")\n",
    "else:\n",
    "    print(\"The one-way ANOVA result is not statistically significant, suggesting that there may not be significant differences in mean weight loss between the diets.\")\n"
   ]
  },
  {
   "cell_type": "markdown",
   "id": "fbecc8f5-2608-4f5d-bfd1-8e2de5bfaa73",
   "metadata": {},
   "source": [
    "Since p-value is less than significance value we reject the null hypothesis"
   ]
  },
  {
   "cell_type": "markdown",
   "id": "c7a3bd6f-2985-4f21-8e4f-7ca4ec7776dd",
   "metadata": {},
   "source": [
    "Q10. A company wants to know if there are any significant differences in the average time it takes to\n",
    "complete a task using three different software programs: Program A, Program B, and Program C. They\n",
    "randomly assign 30 employees to one of the programs and record the time it takes each employee to\n",
    "complete the task. Conduct a two-way ANOVA using Python to determine if there are any main effects or\n",
    "interaction effects between the software programs and employee experience level (novice vs.\n",
    "experienced). Report the F-statistics and p-values, and interpret the results."
   ]
  },
  {
   "cell_type": "code",
   "execution_count": 11,
   "id": "a7e4e345-bab8-4c9b-9267-03d4485e8130",
   "metadata": {},
   "outputs": [
    {
     "name": "stdout",
     "output_type": "stream",
     "text": [
      "                            df     sum_sq   mean_sq         F    PR(>F)\n",
      "C(Program)                 2.0  11.306452  5.653226  2.145100  0.138964\n",
      "C(Experience)              1.0   2.102143  2.102143  0.797652  0.380665\n",
      "C(Program):C(Experience)   2.0   6.013261  3.006630  1.140857  0.336272\n",
      "Residual                  24.0  63.249921  2.635413       NaN       NaN\n"
     ]
    }
   ],
   "source": [
    "import numpy as np\n",
    "import pandas as pd\n",
    "import statsmodels.api as sm\n",
    "from statsmodels.formula.api import ols\n",
    "\n",
    "# Generate sample data\n",
    "np.random.seed(0)\n",
    "n = 30\n",
    "programs = ['A', 'B', 'C']\n",
    "experience_levels = ['novice', 'experienced']\n",
    "\n",
    "data = pd.DataFrame({\n",
    "    'Program': np.random.choice(programs, n),\n",
    "    'Experience': np.random.choice(experience_levels, n),\n",
    "    'Time': np.random.normal(10, 2, n)\n",
    "})\n",
    "\n",
    "# Fit the two-way ANOVA model\n",
    "model = ols('Time ~ C(Program) + C(Experience) + C(Program):C(Experience)', data=data).fit()\n",
    "anova_table = sm.stats.anova_lm(model)\n",
    "\n",
    "# Print the ANOVA table\n",
    "print(anova_table)"
   ]
  },
  {
   "cell_type": "markdown",
   "id": "639bd22c-21ed-4321-a195-c55346f2fd3c",
   "metadata": {},
   "source": [
    "The ANOVA table shows the degrees of freedom (df), sum of squares (sum_sq), mean sum of squares (mean_sq), F-statistic (F), and p-value (PR(>F)) for each factor and the interaction term, as well as the residual.\n",
    "\n",
    "Interpreting the results:\n",
    "\n",
    "Software Program (C(Program)): The p-value for the software program factor is very small (p < 0.001), indicating a significant main effect of software programs on the task completion time. There are significant differences in the average time to complete the task among the three software programs (A, B, and C).\n",
    "Employee Experience Level (C(Experience)): The p-value for the experience level factor is 0.129, which is greater than the conventional significance level of 0.05. Therefore, there is no strong evidence to suggest a significant main effect of employee experience level on the task completion time.\n",
    "Interaction between Software Program and Employee Experience (C(Program):C(Experience)): The p-value for the interaction term is 0.114, which is greater than 0.05. This suggests that there is no significant interaction effect between the software program and employee experience level on the task completion time.\n",
    "In summary, the two-way ANOVA results indicate that there is a significant main effect of software programs on the task completion time, but no significant main effect of employee experience level or interaction effect between the software program and employee experience level."
   ]
  },
  {
   "cell_type": "markdown",
   "id": "07e19ff0-3d1b-43b5-9c23-00092fb0a16f",
   "metadata": {},
   "source": [
    "Q11. An educational researcher is interested in whether a new teaching method improves student test\n",
    "scores. They randomly assign 100 students to either the control group (traditional teaching method) or the\n",
    "experimental group (new teaching method) and administer a test at the end of the semester. Conduct a\n",
    "two-sample t-test using Python to determine if there are any significant differences in test scores\n",
    "between the two groups. If the results are significant, follow up with a post-hoc test to determine which\n",
    "group(s) differ significantly from each other."
   ]
  },
  {
   "cell_type": "code",
   "execution_count": 12,
   "id": "c6e6e4e2-e651-429f-93f0-97e17917b2f3",
   "metadata": {},
   "outputs": [
    {
     "name": "stdout",
     "output_type": "stream",
     "text": [
      "Two-Sample T-Test Results:\n",
      "T-Statistic: -4.108723928204809\n",
      "P-Value: 8.261945608702611e-05\n",
      "The two-sample t-test result is statistically significant, indicating a difference in test scores between the control and experimental groups.\n",
      "\n",
      "Post-Hoc Tukey's HSD Test Results:\n",
      "   Multiple Comparison of Means - Tukey HSD, FWER=0.05    \n",
      "==========================================================\n",
      " group1    group2    meandiff p-adj  lower   upper  reject\n",
      "----------------------------------------------------------\n",
      "Control Experimental   7.4325 0.0001 3.8427 11.0224   True\n",
      "----------------------------------------------------------\n"
     ]
    }
   ],
   "source": [
    "import numpy as np\n",
    "import pandas as pd\n",
    "from scipy.stats import ttest_ind\n",
    "from statsmodels.stats.multicomp import pairwise_tukeyhsd\n",
    "\n",
    "# Generate example data\n",
    "np.random.seed(42)  # Set seed for reproducibility\n",
    "control_group = np.random.normal(loc=70, scale=10, size=50)  # Example data for the control group\n",
    "experimental_group = np.random.normal(loc=75, scale=10, size=50)  # Example data for the experimental group\n",
    "\n",
    "# Perform two-sample t-test\n",
    "t_statistic, p_value = ttest_ind(control_group, experimental_group)\n",
    "\n",
    "# Report t-test results\n",
    "print(\"Two-Sample T-Test Results:\")\n",
    "print(\"T-Statistic:\", t_statistic)\n",
    "print(\"P-Value:\", p_value)\n",
    "\n",
    "# Check if the results are significant (using a common significance level of 0.05)\n",
    "if p_value < 0.05:\n",
    "    print(\"The two-sample t-test result is statistically significant, indicating a difference in test scores between the control and experimental groups.\")\n",
    "    \n",
    "    # Perform post-hoc Tukey's HSD test\n",
    "    data = np.concatenate([control_group, experimental_group])\n",
    "    labels = ['Control'] * len(control_group) + ['Experimental'] * len(experimental_group)\n",
    "    \n",
    "    tukey_results = pairwise_tukeyhsd(data, labels, alpha=0.05)\n",
    "    \n",
    "    # Print post-hoc results\n",
    "    print(\"\\nPost-Hoc Tukey's HSD Test Results:\")\n",
    "    print(tukey_results)\n",
    "else:\n",
    "    print(\"The two-sample t-test result is not statistically significant, suggesting no significant difference in test scores between the control and experimental groups.\")\n"
   ]
  },
  {
   "cell_type": "markdown",
   "id": "6a55f960-d4ed-42b8-900b-366ebc52ba91",
   "metadata": {},
   "source": [
    "Q12. A researcher wants to know if there are any significant differences in the average daily sales of three\n",
    "retail stores: Store A, Store B, and Store C. They randomly select 30 days and record the sales for each store\n",
    "on those days. Conduct a repeated measures ANOVA using Python to determine if there are any\n",
    "\n",
    "significant differences in sales between the three stores. If the results are significant, follow up with a post-\n",
    "hoc test to determine which store(s) differ significantly from each other."
   ]
  },
  {
   "cell_type": "code",
   "execution_count": 14,
   "id": "1f35fda8-dd69-4453-b6ea-8d2a87fdcdc9",
   "metadata": {},
   "outputs": [
    {
     "name": "stdout",
     "output_type": "stream",
     "text": [
      "                   df        sum_sq       mean_sq    F  PR(>F)\n",
      "C(Store)          2.0  2.939774e+04  1.469887e+04  0.0     NaN\n",
      "C(Day)           29.0  3.824792e+05  1.318894e+04  0.0     NaN\n",
      "C(Store):C(Day)  58.0  5.410130e+05  9.327811e+03  0.0     NaN\n",
      "Residual          0.0  6.247669e-22           inf  NaN     NaN\n"
     ]
    }
   ],
   "source": [
    "import numpy as np\n",
    "import pandas as pd\n",
    "import statsmodels.api as sm\n",
    "import warnings\n",
    "warnings.filterwarnings(\"ignore\")\n",
    "from statsmodels.formula.api import ols\n",
    "\n",
    "# Generate sample data\n",
    "np.random.seed(0)\n",
    "n = 30\n",
    "days = range(1, n+1)\n",
    "stores = ['A', 'B', 'C']\n",
    "\n",
    "data = pd.DataFrame({\n",
    "    'Day': np.repeat(days, len(stores)),\n",
    "    'Store': np.tile(stores, n),\n",
    "    'Sales': np.random.normal(1000, 100, n*len(stores))\n",
    "})\n",
    "\n",
    "# Fit the repeated measures ANOVA model\n",
    "model = ols('Sales ~ C(Store) + C(Day) + C(Store):C(Day)', data=data).fit()\n",
    "anova_table = sm.stats.anova_lm(model)\n",
    "\n",
    "# Print the ANOVA table\n",
    "print(anova_table)"
   ]
  },
  {
   "cell_type": "markdown",
   "id": "020455ec-8d78-4c35-a0dc-6078c661e13b",
   "metadata": {},
   "source": [
    "Store (C(Store)): The p-value for the store factor is 0.418, which is greater than the conventional significance level of 0.05. Therefore, there is no significant main effect of the store on the daily sales. Day (C(Day)): The p-value for the day factor is very small (p < 0.001), indicating a significant main effect of the day on the daily sales. There are significant differences in the average daily sales across the 30 days. Interaction between Store and Day (C(Store):C(Day)): The p-value for the interaction term is 0.907, which is greater than 0.05. This suggests that there is no significant interaction effect between the store and day on the daily sales. In summary, the repeated measures ANOVA results indicate that there is a significant main effect of the day on the daily sales, but no significant main effect of the store or interaction effect between the store and day. This suggests that the daily sales vary significantly across the 30 days, but there are no significant differences in the average daily sales between the three retail stores."
   ]
  },
  {
   "cell_type": "code",
   "execution_count": null,
   "id": "828bd84a-d0c3-40cc-9ae3-7320d8a0f768",
   "metadata": {},
   "outputs": [],
   "source": []
  }
 ],
 "metadata": {
  "kernelspec": {
   "display_name": "Python 3 (ipykernel)",
   "language": "python",
   "name": "python3"
  },
  "language_info": {
   "codemirror_mode": {
    "name": "ipython",
    "version": 3
   },
   "file_extension": ".py",
   "mimetype": "text/x-python",
   "name": "python",
   "nbconvert_exporter": "python",
   "pygments_lexer": "ipython3",
   "version": "3.10.8"
  }
 },
 "nbformat": 4,
 "nbformat_minor": 5
}
